{
 "cells": [
  {
   "cell_type": "markdown",
   "id": "f1a21dfa",
   "metadata": {},
   "source": [
    "# Assignment-2 : Capital Asset Pricing Model\n",
    "1. Due date: Oct. 3\n",
    "2. Kratika Aggarwal Fall'22"
   ]
  },
  {
   "cell_type": "markdown",
   "id": "b0c432fc",
   "metadata": {},
   "source": [
    "In this assignment, you are working at a hypothetical bank called `InvRes` Bank offering consulting service to its customers. Your first aim is to find out the risk level of these stocks relative to the market index.\n",
    "\n",
    "\n",
    "\n",
    "To accomplish this task, you will use Capital Asset Pricing Model (CAPM), which dates back to 1960’s, yet still powerful tool in finance due to its intuitive and easy-to-apply nature. As it is completely white-box model, it makes it easy to understand and explain. "
   ]
  },
  {
   "cell_type": "markdown",
   "id": "b72060eb",
   "metadata": {},
   "source": [
    "Once you estimate the slope coefficient (beta) and intercept term (alpha) of the CAPM model, you will be able to assess if the asset is risky compared to market. Then, your next task is to find out the stock with best risk-return relationship. To do that, you are required to employ the following ratios:\n",
    "\n",
    "• Sharpe ratio\n",
    "\n",
    "• Treynor ratio"
   ]
  },
  {
   "cell_type": "markdown",
   "id": "94723035",
   "metadata": {},
   "source": [
    "You can pick any two stocks and market index other than those we have in the class."
   ]
  },
  {
   "cell_type": "markdown",
   "id": "81bb9e36",
   "metadata": {},
   "source": [
    "This assignment will be divided into 4 milestones.\n",
    "\n",
    "1. Accessing the data and obtain daily risk-free rate. Besides, analyze data via summary statistic. (25 pts)\n",
    "\n",
    "2. Examine the data through visualization and correlation. Calculate returns of the stocks and market. (25 pts)\n",
    "\n",
    "3. Run Capital Asset Pricing Model and interpret the results. (25 pts)\n",
    "\n",
    "4. Calculate Sharpe and Treynor measures. Compare and interpret the results and conclude. (25 pts)\n"
   ]
  },
  {
   "cell_type": "code",
   "execution_count": 1,
   "id": "6c583b0d",
   "metadata": {},
   "outputs": [],
   "source": [
    "# codes here"
   ]
  },
  {
   "cell_type": "markdown",
   "id": "f3733382",
   "metadata": {},
   "source": [
    "# Accessing the data and obtain daily risk-free rate. Besides, analyze data via summary statistic. (25 pts)"
   ]
  },
  {
   "cell_type": "markdown",
   "id": "6af164b4",
   "metadata": {},
   "source": [
    "### Importing Important Libraries: "
   ]
  },
  {
   "cell_type": "code",
   "execution_count": 2,
   "id": "5cdf7533",
   "metadata": {},
   "outputs": [],
   "source": [
    "import pandas as pd\n",
    "import matplotlib.pyplot as plt\n",
    "import numpy as np\n",
    "import datetime\n",
    "import seaborn as sns\n",
    "import warnings\n",
    "import yfinance as yf\n",
    "import seaborn as sns; sns.set()\n",
    "import statsmodels.api as sm\n",
    "yf.pdr_override() \n",
    "%matplotlib inline\n",
    "warnings.filterwarnings('ignore')"
   ]
  },
  {
   "cell_type": "markdown",
   "id": "abe37f5c",
   "metadata": {},
   "source": [
    "In the analysis, I have chosen Advanced Micro Devices(AMD) & NVDIA(NVDA) on the NASDAQ 100 Index."
   ]
  },
  {
   "cell_type": "code",
   "execution_count": 3,
   "id": "ec16f82e",
   "metadata": {},
   "outputs": [
    {
     "name": "stdout",
     "output_type": "stream",
     "text": [
      "[*********************100%***********************]  3 of 3 completed\n"
     ]
    }
   ],
   "source": [
    "stocks = ['AMD', 'NVDA','^NDX']\n",
    "start = datetime.datetime(2021, 1, 1)\n",
    "end = datetime.datetime(2021, 4, 1)\n",
    "stock_price = yf.download(stocks, start=start, end=end, interval='1d')"
   ]
  },
  {
   "cell_type": "code",
   "execution_count": 4,
   "id": "334db715",
   "metadata": {},
   "outputs": [
    {
     "data": {
      "text/html": [
       "<div>\n",
       "<style scoped>\n",
       "    .dataframe tbody tr th:only-of-type {\n",
       "        vertical-align: middle;\n",
       "    }\n",
       "\n",
       "    .dataframe tbody tr th {\n",
       "        vertical-align: top;\n",
       "    }\n",
       "\n",
       "    .dataframe thead tr th {\n",
       "        text-align: left;\n",
       "    }\n",
       "\n",
       "    .dataframe thead tr:last-of-type th {\n",
       "        text-align: right;\n",
       "    }\n",
       "</style>\n",
       "<table border=\"1\" class=\"dataframe\">\n",
       "  <thead>\n",
       "    <tr>\n",
       "      <th></th>\n",
       "      <th colspan=\"3\" halign=\"left\">Adj Close</th>\n",
       "      <th colspan=\"3\" halign=\"left\">Close</th>\n",
       "      <th colspan=\"3\" halign=\"left\">High</th>\n",
       "      <th colspan=\"3\" halign=\"left\">Low</th>\n",
       "      <th colspan=\"3\" halign=\"left\">Open</th>\n",
       "      <th colspan=\"3\" halign=\"left\">Volume</th>\n",
       "    </tr>\n",
       "    <tr>\n",
       "      <th></th>\n",
       "      <th>AMD</th>\n",
       "      <th>NVDA</th>\n",
       "      <th>^NDX</th>\n",
       "      <th>AMD</th>\n",
       "      <th>NVDA</th>\n",
       "      <th>^NDX</th>\n",
       "      <th>AMD</th>\n",
       "      <th>NVDA</th>\n",
       "      <th>^NDX</th>\n",
       "      <th>AMD</th>\n",
       "      <th>NVDA</th>\n",
       "      <th>^NDX</th>\n",
       "      <th>AMD</th>\n",
       "      <th>NVDA</th>\n",
       "      <th>^NDX</th>\n",
       "      <th>AMD</th>\n",
       "      <th>NVDA</th>\n",
       "      <th>^NDX</th>\n",
       "    </tr>\n",
       "    <tr>\n",
       "      <th>Date</th>\n",
       "      <th></th>\n",
       "      <th></th>\n",
       "      <th></th>\n",
       "      <th></th>\n",
       "      <th></th>\n",
       "      <th></th>\n",
       "      <th></th>\n",
       "      <th></th>\n",
       "      <th></th>\n",
       "      <th></th>\n",
       "      <th></th>\n",
       "      <th></th>\n",
       "      <th></th>\n",
       "      <th></th>\n",
       "      <th></th>\n",
       "      <th></th>\n",
       "      <th></th>\n",
       "      <th></th>\n",
       "    </tr>\n",
       "  </thead>\n",
       "  <tbody>\n",
       "    <tr>\n",
       "      <th>2021-01-04</th>\n",
       "      <td>92.300003</td>\n",
       "      <td>130.931671</td>\n",
       "      <td>12694.660156</td>\n",
       "      <td>92.300003</td>\n",
       "      <td>131.134995</td>\n",
       "      <td>12694.660156</td>\n",
       "      <td>96.059998</td>\n",
       "      <td>136.524994</td>\n",
       "      <td>12950.219727</td>\n",
       "      <td>90.919998</td>\n",
       "      <td>129.625000</td>\n",
       "      <td>12537.419922</td>\n",
       "      <td>92.110001</td>\n",
       "      <td>131.042496</td>\n",
       "      <td>12950.219727</td>\n",
       "      <td>51802600</td>\n",
       "      <td>56064000</td>\n",
       "      <td>6546740000</td>\n",
       "    </tr>\n",
       "    <tr>\n",
       "      <th>2021-01-05</th>\n",
       "      <td>92.769997</td>\n",
       "      <td>133.839615</td>\n",
       "      <td>12802.379883</td>\n",
       "      <td>92.769997</td>\n",
       "      <td>134.047501</td>\n",
       "      <td>12802.379883</td>\n",
       "      <td>93.209999</td>\n",
       "      <td>134.434998</td>\n",
       "      <td>12809.669922</td>\n",
       "      <td>91.410004</td>\n",
       "      <td>130.869995</td>\n",
       "      <td>12663.129883</td>\n",
       "      <td>92.099998</td>\n",
       "      <td>130.997498</td>\n",
       "      <td>12663.129883</td>\n",
       "      <td>34208000</td>\n",
       "      <td>32276000</td>\n",
       "      <td>6904420000</td>\n",
       "    </tr>\n",
       "    <tr>\n",
       "      <th>2021-01-06</th>\n",
       "      <td>90.330002</td>\n",
       "      <td>125.949394</td>\n",
       "      <td>12623.349609</td>\n",
       "      <td>90.330002</td>\n",
       "      <td>126.144997</td>\n",
       "      <td>12623.349609</td>\n",
       "      <td>92.279999</td>\n",
       "      <td>132.449997</td>\n",
       "      <td>12803.290039</td>\n",
       "      <td>89.459999</td>\n",
       "      <td>125.860001</td>\n",
       "      <td>12569.419922</td>\n",
       "      <td>91.620003</td>\n",
       "      <td>132.225006</td>\n",
       "      <td>12601.259766</td>\n",
       "      <td>51911700</td>\n",
       "      <td>58042400</td>\n",
       "      <td>7648340000</td>\n",
       "    </tr>\n",
       "    <tr>\n",
       "      <th>2021-01-07</th>\n",
       "      <td>95.160004</td>\n",
       "      <td>133.233063</td>\n",
       "      <td>12939.570312</td>\n",
       "      <td>95.160004</td>\n",
       "      <td>133.440002</td>\n",
       "      <td>12939.570312</td>\n",
       "      <td>95.510002</td>\n",
       "      <td>133.777496</td>\n",
       "      <td>12966.679688</td>\n",
       "      <td>91.199997</td>\n",
       "      <td>128.865005</td>\n",
       "      <td>12744.820312</td>\n",
       "      <td>91.330002</td>\n",
       "      <td>129.675003</td>\n",
       "      <td>12745.410156</td>\n",
       "      <td>42897200</td>\n",
       "      <td>46148000</td>\n",
       "      <td>6777010000</td>\n",
       "    </tr>\n",
       "    <tr>\n",
       "      <th>2021-01-08</th>\n",
       "      <td>94.580002</td>\n",
       "      <td>132.561615</td>\n",
       "      <td>13105.200195</td>\n",
       "      <td>94.580002</td>\n",
       "      <td>132.767502</td>\n",
       "      <td>13105.200195</td>\n",
       "      <td>96.400002</td>\n",
       "      <td>134.210007</td>\n",
       "      <td>13113.089844</td>\n",
       "      <td>93.269997</td>\n",
       "      <td>130.419998</td>\n",
       "      <td>12939.730469</td>\n",
       "      <td>95.980003</td>\n",
       "      <td>133.625000</td>\n",
       "      <td>13037.240234</td>\n",
       "      <td>39816400</td>\n",
       "      <td>29252800</td>\n",
       "      <td>7223660000</td>\n",
       "    </tr>\n",
       "  </tbody>\n",
       "</table>\n",
       "</div>"
      ],
      "text/plain": [
       "            Adj Close                                Close              \\\n",
       "                  AMD        NVDA          ^NDX        AMD        NVDA   \n",
       "Date                                                                     \n",
       "2021-01-04  92.300003  130.931671  12694.660156  92.300003  131.134995   \n",
       "2021-01-05  92.769997  133.839615  12802.379883  92.769997  134.047501   \n",
       "2021-01-06  90.330002  125.949394  12623.349609  90.330002  126.144997   \n",
       "2021-01-07  95.160004  133.233063  12939.570312  95.160004  133.440002   \n",
       "2021-01-08  94.580002  132.561615  13105.200195  94.580002  132.767502   \n",
       "\n",
       "                               High                                  Low  \\\n",
       "                    ^NDX        AMD        NVDA          ^NDX        AMD   \n",
       "Date                                                                       \n",
       "2021-01-04  12694.660156  96.059998  136.524994  12950.219727  90.919998   \n",
       "2021-01-05  12802.379883  93.209999  134.434998  12809.669922  91.410004   \n",
       "2021-01-06  12623.349609  92.279999  132.449997  12803.290039  89.459999   \n",
       "2021-01-07  12939.570312  95.510002  133.777496  12966.679688  91.199997   \n",
       "2021-01-08  13105.200195  96.400002  134.210007  13113.089844  93.269997   \n",
       "\n",
       "                                           Open                            \\\n",
       "                  NVDA          ^NDX        AMD        NVDA          ^NDX   \n",
       "Date                                                                        \n",
       "2021-01-04  129.625000  12537.419922  92.110001  131.042496  12950.219727   \n",
       "2021-01-05  130.869995  12663.129883  92.099998  130.997498  12663.129883   \n",
       "2021-01-06  125.860001  12569.419922  91.620003  132.225006  12601.259766   \n",
       "2021-01-07  128.865005  12744.820312  91.330002  129.675003  12745.410156   \n",
       "2021-01-08  130.419998  12939.730469  95.980003  133.625000  13037.240234   \n",
       "\n",
       "              Volume                        \n",
       "                 AMD      NVDA        ^NDX  \n",
       "Date                                        \n",
       "2021-01-04  51802600  56064000  6546740000  \n",
       "2021-01-05  34208000  32276000  6904420000  \n",
       "2021-01-06  51911700  58042400  7648340000  \n",
       "2021-01-07  42897200  46148000  6777010000  \n",
       "2021-01-08  39816400  29252800  7223660000  "
      ]
     },
     "execution_count": 4,
     "metadata": {},
     "output_type": "execute_result"
    }
   ],
   "source": [
    "stock_price.head()"
   ]
  },
  {
   "cell_type": "code",
   "execution_count": 5,
   "id": "34396cc3",
   "metadata": {},
   "outputs": [
    {
     "data": {
      "text/html": [
       "<div>\n",
       "<style scoped>\n",
       "    .dataframe tbody tr th:only-of-type {\n",
       "        vertical-align: middle;\n",
       "    }\n",
       "\n",
       "    .dataframe tbody tr th {\n",
       "        vertical-align: top;\n",
       "    }\n",
       "\n",
       "    .dataframe thead th {\n",
       "        text-align: right;\n",
       "    }\n",
       "</style>\n",
       "<table border=\"1\" class=\"dataframe\">\n",
       "  <thead>\n",
       "    <tr style=\"text-align: right;\">\n",
       "      <th></th>\n",
       "      <th>AMD</th>\n",
       "      <th>NVDA</th>\n",
       "      <th>^NDX</th>\n",
       "    </tr>\n",
       "    <tr>\n",
       "      <th>Date</th>\n",
       "      <th></th>\n",
       "      <th></th>\n",
       "      <th></th>\n",
       "    </tr>\n",
       "  </thead>\n",
       "  <tbody>\n",
       "    <tr>\n",
       "      <th>2021-01-04</th>\n",
       "      <td>92.300003</td>\n",
       "      <td>131.134995</td>\n",
       "      <td>12694.660156</td>\n",
       "    </tr>\n",
       "    <tr>\n",
       "      <th>2021-01-05</th>\n",
       "      <td>92.769997</td>\n",
       "      <td>134.047501</td>\n",
       "      <td>12802.379883</td>\n",
       "    </tr>\n",
       "    <tr>\n",
       "      <th>2021-01-06</th>\n",
       "      <td>90.330002</td>\n",
       "      <td>126.144997</td>\n",
       "      <td>12623.349609</td>\n",
       "    </tr>\n",
       "    <tr>\n",
       "      <th>2021-01-07</th>\n",
       "      <td>95.160004</td>\n",
       "      <td>133.440002</td>\n",
       "      <td>12939.570312</td>\n",
       "    </tr>\n",
       "    <tr>\n",
       "      <th>2021-01-08</th>\n",
       "      <td>94.580002</td>\n",
       "      <td>132.767502</td>\n",
       "      <td>13105.200195</td>\n",
       "    </tr>\n",
       "  </tbody>\n",
       "</table>\n",
       "</div>"
      ],
      "text/plain": [
       "                  AMD        NVDA          ^NDX\n",
       "Date                                           \n",
       "2021-01-04  92.300003  131.134995  12694.660156\n",
       "2021-01-05  92.769997  134.047501  12802.379883\n",
       "2021-01-06  90.330002  126.144997  12623.349609\n",
       "2021-01-07  95.160004  133.440002  12939.570312\n",
       "2021-01-08  94.580002  132.767502  13105.200195"
      ]
     },
     "execution_count": 5,
     "metadata": {},
     "output_type": "execute_result"
    }
   ],
   "source": [
    "stock_price=stock_price['Close']\n",
    "stock_price.head()"
   ]
  },
  {
   "cell_type": "markdown",
   "id": "57794085",
   "metadata": {},
   "source": [
    "#### Renaming ^NDX column for convienence"
   ]
  },
  {
   "cell_type": "code",
   "execution_count": 6,
   "id": "2ce9f4cc",
   "metadata": {},
   "outputs": [
    {
     "data": {
      "text/html": [
       "<div>\n",
       "<style scoped>\n",
       "    .dataframe tbody tr th:only-of-type {\n",
       "        vertical-align: middle;\n",
       "    }\n",
       "\n",
       "    .dataframe tbody tr th {\n",
       "        vertical-align: top;\n",
       "    }\n",
       "\n",
       "    .dataframe thead th {\n",
       "        text-align: right;\n",
       "    }\n",
       "</style>\n",
       "<table border=\"1\" class=\"dataframe\">\n",
       "  <thead>\n",
       "    <tr style=\"text-align: right;\">\n",
       "      <th></th>\n",
       "      <th>AMD</th>\n",
       "      <th>NVDA</th>\n",
       "      <th>NDX</th>\n",
       "    </tr>\n",
       "    <tr>\n",
       "      <th>Date</th>\n",
       "      <th></th>\n",
       "      <th></th>\n",
       "      <th></th>\n",
       "    </tr>\n",
       "  </thead>\n",
       "  <tbody>\n",
       "    <tr>\n",
       "      <th>2021-01-04</th>\n",
       "      <td>92.300003</td>\n",
       "      <td>131.134995</td>\n",
       "      <td>12694.660156</td>\n",
       "    </tr>\n",
       "    <tr>\n",
       "      <th>2021-01-05</th>\n",
       "      <td>92.769997</td>\n",
       "      <td>134.047501</td>\n",
       "      <td>12802.379883</td>\n",
       "    </tr>\n",
       "    <tr>\n",
       "      <th>2021-01-06</th>\n",
       "      <td>90.330002</td>\n",
       "      <td>126.144997</td>\n",
       "      <td>12623.349609</td>\n",
       "    </tr>\n",
       "    <tr>\n",
       "      <th>2021-01-07</th>\n",
       "      <td>95.160004</td>\n",
       "      <td>133.440002</td>\n",
       "      <td>12939.570312</td>\n",
       "    </tr>\n",
       "    <tr>\n",
       "      <th>2021-01-08</th>\n",
       "      <td>94.580002</td>\n",
       "      <td>132.767502</td>\n",
       "      <td>13105.200195</td>\n",
       "    </tr>\n",
       "  </tbody>\n",
       "</table>\n",
       "</div>"
      ],
      "text/plain": [
       "                  AMD        NVDA           NDX\n",
       "Date                                           \n",
       "2021-01-04  92.300003  131.134995  12694.660156\n",
       "2021-01-05  92.769997  134.047501  12802.379883\n",
       "2021-01-06  90.330002  126.144997  12623.349609\n",
       "2021-01-07  95.160004  133.440002  12939.570312\n",
       "2021-01-08  94.580002  132.767502  13105.200195"
      ]
     },
     "execution_count": 6,
     "metadata": {},
     "output_type": "execute_result"
    }
   ],
   "source": [
    "stock_price = stock_price.rename({'^NDX' :'NDX'},  axis='columns')\n",
    "stock_price.head()"
   ]
  },
  {
   "cell_type": "markdown",
   "id": "3f095628",
   "metadata": {},
   "source": [
    "Here, there are two stock indexes(AMD,NVDA) and one market index(NDX)."
   ]
  },
  {
   "cell_type": "code",
   "execution_count": 7,
   "id": "ccaffee3",
   "metadata": {},
   "outputs": [
    {
     "data": {
      "text/html": [
       "<div>\n",
       "<style scoped>\n",
       "    .dataframe tbody tr th:only-of-type {\n",
       "        vertical-align: middle;\n",
       "    }\n",
       "\n",
       "    .dataframe tbody tr th {\n",
       "        vertical-align: top;\n",
       "    }\n",
       "\n",
       "    .dataframe thead th {\n",
       "        text-align: right;\n",
       "    }\n",
       "</style>\n",
       "<table border=\"1\" class=\"dataframe\">\n",
       "  <thead>\n",
       "    <tr style=\"text-align: right;\">\n",
       "      <th></th>\n",
       "      <th>AMD</th>\n",
       "      <th>NVDA</th>\n",
       "      <th>NDX</th>\n",
       "    </tr>\n",
       "  </thead>\n",
       "  <tbody>\n",
       "    <tr>\n",
       "      <th>count</th>\n",
       "      <td>61.000000</td>\n",
       "      <td>61.000000</td>\n",
       "      <td>61.000000</td>\n",
       "    </tr>\n",
       "    <tr>\n",
       "      <th>mean</th>\n",
       "      <td>86.102131</td>\n",
       "      <td>134.407870</td>\n",
       "      <td>13124.912350</td>\n",
       "    </tr>\n",
       "    <tr>\n",
       "      <th>std</th>\n",
       "      <td>6.181423</td>\n",
       "      <td>7.734565</td>\n",
       "      <td>353.459364</td>\n",
       "    </tr>\n",
       "    <tr>\n",
       "      <th>min</th>\n",
       "      <td>73.959999</td>\n",
       "      <td>115.932503</td>\n",
       "      <td>12299.080078</td>\n",
       "    </tr>\n",
       "    <tr>\n",
       "      <th>25%</th>\n",
       "      <td>80.860001</td>\n",
       "      <td>129.177505</td>\n",
       "      <td>12892.089844</td>\n",
       "    </tr>\n",
       "    <tr>\n",
       "      <th>50%</th>\n",
       "      <td>87.660004</td>\n",
       "      <td>133.412506</td>\n",
       "      <td>13082.540039</td>\n",
       "    </tr>\n",
       "    <tr>\n",
       "      <th>75%</th>\n",
       "      <td>91.459999</td>\n",
       "      <td>137.125000</td>\n",
       "      <td>13402.370117</td>\n",
       "    </tr>\n",
       "    <tr>\n",
       "      <th>max</th>\n",
       "      <td>97.250000</td>\n",
       "      <td>153.302505</td>\n",
       "      <td>13807.700195</td>\n",
       "    </tr>\n",
       "  </tbody>\n",
       "</table>\n",
       "</div>"
      ],
      "text/plain": [
       "             AMD        NVDA           NDX\n",
       "count  61.000000   61.000000     61.000000\n",
       "mean   86.102131  134.407870  13124.912350\n",
       "std     6.181423    7.734565    353.459364\n",
       "min    73.959999  115.932503  12299.080078\n",
       "25%    80.860001  129.177505  12892.089844\n",
       "50%    87.660004  133.412506  13082.540039\n",
       "75%    91.459999  137.125000  13402.370117\n",
       "max    97.250000  153.302505  13807.700195"
      ]
     },
     "execution_count": 7,
     "metadata": {},
     "output_type": "execute_result"
    }
   ],
   "source": [
    "stock_price.describe()"
   ]
  },
  {
   "cell_type": "markdown",
   "id": "cfbadef2",
   "metadata": {},
   "source": [
    "Initial observation tells us that the price level and volatility (represented by standard deviation) of NDX(market)\n",
    "is quite different from the rest of the stocks."
   ]
  },
  {
   "cell_type": "markdown",
   "id": "5448b58f",
   "metadata": {},
   "source": [
    "### Risk-free rate = using the interest rate on a three-month U.S. Treasury bill as a useful proxy"
   ]
  },
  {
   "cell_type": "code",
   "execution_count": 8,
   "id": "4acad853",
   "metadata": {},
   "outputs": [
    {
     "name": "stdout",
     "output_type": "stream",
     "text": [
      "Requirement already satisfied: fredapi in /Library/Frameworks/Python.framework/Versions/3.10/lib/python3.10/site-packages (0.5.0)\r\n",
      "Requirement already satisfied: pandas in /Library/Frameworks/Python.framework/Versions/3.10/lib/python3.10/site-packages (from fredapi) (1.4.4)\r\n",
      "Requirement already satisfied: pytz>=2020.1 in /Library/Frameworks/Python.framework/Versions/3.10/lib/python3.10/site-packages (from pandas->fredapi) (2022.2.1)\r\n",
      "Requirement already satisfied: numpy>=1.21.0 in /Library/Frameworks/Python.framework/Versions/3.10/lib/python3.10/site-packages (from pandas->fredapi) (1.23.3)\r\n",
      "Requirement already satisfied: python-dateutil>=2.8.1 in /Library/Frameworks/Python.framework/Versions/3.10/lib/python3.10/site-packages (from pandas->fredapi) (2.8.2)\r\n",
      "Requirement already satisfied: six>=1.5 in /Library/Frameworks/Python.framework/Versions/3.10/lib/python3.10/site-packages (from python-dateutil>=2.8.1->pandas->fredapi) (1.16.0)\r\n"
     ]
    }
   ],
   "source": [
    "!pip3 install fredapi"
   ]
  },
  {
   "cell_type": "code",
   "execution_count": 14,
   "id": "7066bfb5",
   "metadata": {},
   "outputs": [],
   "source": [
    "from fredapi import Fred\n",
    "fred = Fred(api_key='791c937c34aeec18755ee76dfa15f282')#  my API key"
   ]
  },
  {
   "cell_type": "code",
   "execution_count": 15,
   "id": "92b023c0",
   "metadata": {},
   "outputs": [
    {
     "data": {
      "text/html": [
       "<div>\n",
       "<style scoped>\n",
       "    .dataframe tbody tr th:only-of-type {\n",
       "        vertical-align: middle;\n",
       "    }\n",
       "\n",
       "    .dataframe tbody tr th {\n",
       "        vertical-align: top;\n",
       "    }\n",
       "\n",
       "    .dataframe thead th {\n",
       "        text-align: right;\n",
       "    }\n",
       "</style>\n",
       "<table border=\"1\" class=\"dataframe\">\n",
       "  <thead>\n",
       "    <tr style=\"text-align: right;\">\n",
       "      <th></th>\n",
       "      <th>frequency</th>\n",
       "      <th>frequency_short</th>\n",
       "      <th>id</th>\n",
       "      <th>last_updated</th>\n",
       "      <th>notes</th>\n",
       "      <th>observation_end</th>\n",
       "      <th>observation_start</th>\n",
       "      <th>popularity</th>\n",
       "      <th>realtime_end</th>\n",
       "      <th>realtime_start</th>\n",
       "      <th>seasonal_adjustment</th>\n",
       "      <th>seasonal_adjustment_short</th>\n",
       "      <th>title</th>\n",
       "      <th>units</th>\n",
       "      <th>units_short</th>\n",
       "    </tr>\n",
       "    <tr>\n",
       "      <th>series id</th>\n",
       "      <th></th>\n",
       "      <th></th>\n",
       "      <th></th>\n",
       "      <th></th>\n",
       "      <th></th>\n",
       "      <th></th>\n",
       "      <th></th>\n",
       "      <th></th>\n",
       "      <th></th>\n",
       "      <th></th>\n",
       "      <th></th>\n",
       "      <th></th>\n",
       "      <th></th>\n",
       "      <th></th>\n",
       "      <th></th>\n",
       "    </tr>\n",
       "  </thead>\n",
       "  <tbody>\n",
       "    <tr>\n",
       "      <th>DGS3MO</th>\n",
       "      <td>Daily</td>\n",
       "      <td>D</td>\n",
       "      <td>DGS3MO</td>\n",
       "      <td>2022-09-30 15:20:04-05:00</td>\n",
       "      <td>For further information regarding treasury con...</td>\n",
       "      <td>2022-09-29</td>\n",
       "      <td>1981-09-01</td>\n",
       "      <td>72</td>\n",
       "      <td>2022-10-03</td>\n",
       "      <td>2022-10-03</td>\n",
       "      <td>Not Seasonally Adjusted</td>\n",
       "      <td>NSA</td>\n",
       "      <td>Market Yield on U.S. Treasury Securities at 3-...</td>\n",
       "      <td>Percent</td>\n",
       "      <td>%</td>\n",
       "    </tr>\n",
       "  </tbody>\n",
       "</table>\n",
       "</div>"
      ],
      "text/plain": [
       "          frequency frequency_short      id              last_updated  \\\n",
       "series id                                                               \n",
       "DGS3MO        Daily               D  DGS3MO 2022-09-30 15:20:04-05:00   \n",
       "\n",
       "                                                       notes observation_end  \\\n",
       "series id                                                                      \n",
       "DGS3MO     For further information regarding treasury con...      2022-09-29   \n",
       "\n",
       "          observation_start popularity realtime_end realtime_start  \\\n",
       "series id                                                            \n",
       "DGS3MO           1981-09-01         72   2022-10-03     2022-10-03   \n",
       "\n",
       "               seasonal_adjustment seasonal_adjustment_short  \\\n",
       "series id                                                      \n",
       "DGS3MO     Not Seasonally Adjusted                       NSA   \n",
       "\n",
       "                                                       title    units  \\\n",
       "series id                                                               \n",
       "DGS3MO     Market Yield on U.S. Treasury Securities at 3-...  Percent   \n",
       "\n",
       "          units_short  \n",
       "series id              \n",
       "DGS3MO              %  "
      ]
     },
     "execution_count": 15,
     "metadata": {},
     "output_type": "execute_result"
    }
   ],
   "source": [
    "fred.search('DGS3MO')"
   ]
  },
  {
   "cell_type": "code",
   "execution_count": 16,
   "id": "370c2cfd",
   "metadata": {},
   "outputs": [
    {
     "data": {
      "text/plain": [
       "1981-09-01    17.01\n",
       "1981-09-02    16.65\n",
       "1981-09-03    16.96\n",
       "1981-09-04    16.64\n",
       "1981-09-07      NaN\n",
       "              ...  \n",
       "2022-09-23     3.24\n",
       "2022-09-26     3.39\n",
       "2022-09-27     3.35\n",
       "2022-09-28     3.40\n",
       "2022-09-29     3.36\n",
       "Length: 10718, dtype: float64"
      ]
     },
     "execution_count": 16,
     "metadata": {},
     "output_type": "execute_result"
    }
   ],
   "source": [
    "risk_free = fred.get_series('DGS3MO')\n",
    "risk_free"
   ]
  },
  {
   "cell_type": "code",
   "execution_count": 17,
   "id": "0a2ea9e6",
   "metadata": {},
   "outputs": [
    {
     "data": {
      "image/png": "[encoded data removed]",
      "text/plain": [
       "<Figure size 640x480 with 1 Axes>"
      ]
     },
     "metadata": {},
     "output_type": "display_data"
    }
   ],
   "source": [
    "stock_price.loc[:,['AMD', 'NVDA']].plot()\n",
    "plt.title('Stock Prices')\n",
    "plt.xlabel('Date')\n",
    "plt.show()"
   ]
  },
  {
   "cell_type": "markdown",
   "id": "c713b4c6",
   "metadata": {},
   "source": [
    "The Stock price for (NVDA) has had it's ups(Major spike in February 2021) and downs(Major dip in Mid March 2021) while Advanced Micro Devices(AMD) has gradually gone downwards."
   ]
  },
  {
   "cell_type": "code",
   "execution_count": 18,
   "id": "8f33b723",
   "metadata": {},
   "outputs": [
    {
     "data": {
      "text/html": [
       "<div>\n",
       "<style scoped>\n",
       "    .dataframe tbody tr th:only-of-type {\n",
       "        vertical-align: middle;\n",
       "    }\n",
       "\n",
       "    .dataframe tbody tr th {\n",
       "        vertical-align: top;\n",
       "    }\n",
       "\n",
       "    .dataframe thead th {\n",
       "        text-align: right;\n",
       "    }\n",
       "</style>\n",
       "<table border=\"1\" class=\"dataframe\">\n",
       "  <thead>\n",
       "    <tr style=\"text-align: right;\">\n",
       "      <th></th>\n",
       "      <th>AMD</th>\n",
       "      <th>NVDA</th>\n",
       "      <th>NDX</th>\n",
       "    </tr>\n",
       "  </thead>\n",
       "  <tbody>\n",
       "    <tr>\n",
       "      <th>AMD</th>\n",
       "      <td>1.000000</td>\n",
       "      <td>0.600129</td>\n",
       "      <td>0.537636</td>\n",
       "    </tr>\n",
       "    <tr>\n",
       "      <th>NVDA</th>\n",
       "      <td>0.600129</td>\n",
       "      <td>1.000000</td>\n",
       "      <td>0.861234</td>\n",
       "    </tr>\n",
       "    <tr>\n",
       "      <th>NDX</th>\n",
       "      <td>0.537636</td>\n",
       "      <td>0.861234</td>\n",
       "      <td>1.000000</td>\n",
       "    </tr>\n",
       "  </tbody>\n",
       "</table>\n",
       "</div>"
      ],
      "text/plain": [
       "           AMD      NVDA       NDX\n",
       "AMD   1.000000  0.600129  0.537636\n",
       "NVDA  0.600129  1.000000  0.861234\n",
       "NDX   0.537636  0.861234  1.000000"
      ]
     },
     "execution_count": 18,
     "metadata": {},
     "output_type": "execute_result"
    }
   ],
   "source": [
    "stock_price.corr()"
   ]
  },
  {
   "cell_type": "markdown",
   "id": "a58bd204",
   "metadata": {},
   "source": [
    "The Correlation Matrix shows that there is a high correlation between NDX and NVDA. "
   ]
  },
  {
   "cell_type": "markdown",
   "id": "cb125d5b",
   "metadata": {},
   "source": [
    "### Calculating the Return"
   ]
  },
  {
   "cell_type": "code",
   "execution_count": 19,
   "id": "fe46c4cb",
   "metadata": {},
   "outputs": [],
   "source": [
    "returns = stock_price.pct_change()\n",
    "returns.dropna(inplace=True)"
   ]
  },
  {
   "cell_type": "markdown",
   "id": "6a88d0a3",
   "metadata": {},
   "source": [
    "### Converting 3 Month(90 Days) Risk Free Rate into Daily Rate"
   ]
  },
  {
   "cell_type": "code",
   "execution_count": 20,
   "id": "47d00e36",
   "metadata": {},
   "outputs": [
    {
     "data": {
      "text/plain": [
       "2021-01-04    0.001000\n",
       "2021-01-05    0.001000\n",
       "2021-01-06    0.001000\n",
       "2021-01-07    0.001000\n",
       "2021-01-08    0.000889\n",
       "                ...   \n",
       "2021-03-26    0.000222\n",
       "2021-03-29    0.000333\n",
       "2021-03-30    0.000222\n",
       "2021-03-31    0.000333\n",
       "2021-04-01    0.000222\n",
       "Length: 62, dtype: float64"
      ]
     },
     "execution_count": 20,
     "metadata": {},
     "output_type": "execute_result"
    }
   ],
   "source": [
    "risk_free = risk_free['2021-01-01':'2021-04-01']\n",
    "risk_free = risk_free/90 \n",
    "risk_free.dropna(inplace=True)\n",
    "risk_free"
   ]
  },
  {
   "cell_type": "markdown",
   "id": "caec2759",
   "metadata": {},
   "source": [
    "### Calculating Excess Return"
   ]
  },
  {
   "cell_type": "markdown",
   "id": "982c9828",
   "metadata": {},
   "source": [
    "*Formula :* Excess Return = Stock Return - Risk Free Rate"
   ]
  },
  {
   "cell_type": "code",
   "execution_count": 21,
   "id": "a3678d3f",
   "metadata": {},
   "outputs": [
    {
     "data": {
      "text/html": [
       "<div>\n",
       "<style scoped>\n",
       "    .dataframe tbody tr th:only-of-type {\n",
       "        vertical-align: middle;\n",
       "    }\n",
       "\n",
       "    .dataframe tbody tr th {\n",
       "        vertical-align: top;\n",
       "    }\n",
       "\n",
       "    .dataframe thead th {\n",
       "        text-align: right;\n",
       "    }\n",
       "</style>\n",
       "<table border=\"1\" class=\"dataframe\">\n",
       "  <thead>\n",
       "    <tr style=\"text-align: right;\">\n",
       "      <th></th>\n",
       "      <th>AMD</th>\n",
       "      <th>NVDA</th>\n",
       "      <th>NDX</th>\n",
       "      <th>excess_return_AMD</th>\n",
       "      <th>excess_return_NVDA</th>\n",
       "      <th>excess_return_NDX</th>\n",
       "    </tr>\n",
       "    <tr>\n",
       "      <th>Date</th>\n",
       "      <th></th>\n",
       "      <th></th>\n",
       "      <th></th>\n",
       "      <th></th>\n",
       "      <th></th>\n",
       "      <th></th>\n",
       "    </tr>\n",
       "  </thead>\n",
       "  <tbody>\n",
       "    <tr>\n",
       "      <th>2021-01-05</th>\n",
       "      <td>0.005092</td>\n",
       "      <td>0.022210</td>\n",
       "      <td>0.008485</td>\n",
       "      <td>0.004092</td>\n",
       "      <td>0.021210</td>\n",
       "      <td>0.007485</td>\n",
       "    </tr>\n",
       "    <tr>\n",
       "      <th>2021-01-06</th>\n",
       "      <td>-0.026302</td>\n",
       "      <td>-0.058953</td>\n",
       "      <td>-0.013984</td>\n",
       "      <td>-0.027302</td>\n",
       "      <td>-0.059953</td>\n",
       "      <td>-0.014984</td>\n",
       "    </tr>\n",
       "    <tr>\n",
       "      <th>2021-01-07</th>\n",
       "      <td>0.053471</td>\n",
       "      <td>0.057830</td>\n",
       "      <td>0.025050</td>\n",
       "      <td>0.052471</td>\n",
       "      <td>0.056830</td>\n",
       "      <td>0.024050</td>\n",
       "    </tr>\n",
       "    <tr>\n",
       "      <th>2021-01-08</th>\n",
       "      <td>-0.006095</td>\n",
       "      <td>-0.005040</td>\n",
       "      <td>0.012800</td>\n",
       "      <td>-0.006984</td>\n",
       "      <td>-0.005929</td>\n",
       "      <td>0.011911</td>\n",
       "    </tr>\n",
       "    <tr>\n",
       "      <th>2021-01-11</th>\n",
       "      <td>0.028230</td>\n",
       "      <td>0.025966</td>\n",
       "      <td>-0.015468</td>\n",
       "      <td>0.027341</td>\n",
       "      <td>0.025078</td>\n",
       "      <td>-0.016357</td>\n",
       "    </tr>\n",
       "  </tbody>\n",
       "</table>\n",
       "</div>"
      ],
      "text/plain": [
       "                 AMD      NVDA       NDX  excess_return_AMD  \\\n",
       "Date                                                          \n",
       "2021-01-05  0.005092  0.022210  0.008485           0.004092   \n",
       "2021-01-06 -0.026302 -0.058953 -0.013984          -0.027302   \n",
       "2021-01-07  0.053471  0.057830  0.025050           0.052471   \n",
       "2021-01-08 -0.006095 -0.005040  0.012800          -0.006984   \n",
       "2021-01-11  0.028230  0.025966 -0.015468           0.027341   \n",
       "\n",
       "            excess_return_NVDA  excess_return_NDX  \n",
       "Date                                               \n",
       "2021-01-05            0.021210           0.007485  \n",
       "2021-01-06           -0.059953          -0.014984  \n",
       "2021-01-07            0.056830           0.024050  \n",
       "2021-01-08           -0.005929           0.011911  \n",
       "2021-01-11            0.025078          -0.016357  "
      ]
     },
     "execution_count": 21,
     "metadata": {},
     "output_type": "execute_result"
    }
   ],
   "source": [
    "for i in returns.columns:\n",
    "    returns[f'excess_return_{i}'] = returns[i] - risk_free\n",
    "returns.head()"
   ]
  },
  {
   "cell_type": "markdown",
   "id": "2222e1e1",
   "metadata": {},
   "source": [
    "### Running CAPM"
   ]
  },
  {
   "cell_type": "code",
   "execution_count": 22,
   "id": "2b2fc97a",
   "metadata": {},
   "outputs": [],
   "source": [
    "y_amd = returns['excess_return_AMD']\n",
    "X = returns['excess_return_NDX']"
   ]
  },
  {
   "cell_type": "code",
   "execution_count": 23,
   "id": "f0acf5fa",
   "metadata": {},
   "outputs": [],
   "source": [
    "X = sm.add_constant(X, prepend=False)\n",
    "capm_amd = sm.OLS(y_amd, X)\n",
    "capm_result_amd = capm_amd.fit()"
   ]
  },
  {
   "cell_type": "code",
   "execution_count": 24,
   "id": "8017fc85",
   "metadata": {},
   "outputs": [
    {
     "data": {
      "text/html": [
       "<table class=\"simpletable\">\n",
       "<caption>OLS Regression Results</caption>\n",
       "<tr>\n",
       "  <th>Dep. Variable:</th>    <td>excess_return_AMD</td> <th>  R-squared:         </th> <td>   0.659</td>\n",
       "</tr>\n",
       "<tr>\n",
       "  <th>Model:</th>                   <td>OLS</td>        <th>  Adj. R-squared:    </th> <td>   0.653</td>\n",
       "</tr>\n",
       "<tr>\n",
       "  <th>Method:</th>             <td>Least Squares</td>   <th>  F-statistic:       </th> <td>   112.2</td>\n",
       "</tr>\n",
       "<tr>\n",
       "  <th>Date:</th>             <td>Mon, 03 Oct 2022</td>  <th>  Prob (F-statistic):</th> <td>3.52e-15</td>\n",
       "</tr>\n",
       "<tr>\n",
       "  <th>Time:</th>                 <td>10:09:26</td>      <th>  Log-Likelihood:    </th> <td>  163.89</td>\n",
       "</tr>\n",
       "<tr>\n",
       "  <th>No. Observations:</th>      <td>    60</td>       <th>  AIC:               </th> <td>  -323.8</td>\n",
       "</tr>\n",
       "<tr>\n",
       "  <th>Df Residuals:</th>          <td>    58</td>       <th>  BIC:               </th> <td>  -319.6</td>\n",
       "</tr>\n",
       "<tr>\n",
       "  <th>Df Model:</th>              <td>     1</td>       <th>                     </th>     <td> </td>   \n",
       "</tr>\n",
       "<tr>\n",
       "  <th>Covariance Type:</th>      <td>nonrobust</td>     <th>                     </th>     <td> </td>   \n",
       "</tr>\n",
       "</table>\n",
       "<table class=\"simpletable\">\n",
       "<tr>\n",
       "          <td></td>             <th>coef</th>     <th>std err</th>      <th>t</th>      <th>P>|t|</th>  <th>[0.025</th>    <th>0.975]</th>  \n",
       "</tr>\n",
       "<tr>\n",
       "  <th>excess_return_NDX</th> <td>    1.3989</td> <td>    0.132</td> <td>   10.593</td> <td> 0.000</td> <td>    1.135</td> <td>    1.663</td>\n",
       "</tr>\n",
       "<tr>\n",
       "  <th>const</th>             <td>   -0.0030</td> <td>    0.002</td> <td>   -1.448</td> <td> 0.153</td> <td>   -0.007</td> <td>    0.001</td>\n",
       "</tr>\n",
       "</table>\n",
       "<table class=\"simpletable\">\n",
       "<tr>\n",
       "  <th>Omnibus:</th>       <td> 6.682</td> <th>  Durbin-Watson:     </th> <td>   2.300</td>\n",
       "</tr>\n",
       "<tr>\n",
       "  <th>Prob(Omnibus):</th> <td> 0.035</td> <th>  Jarque-Bera (JB):  </th> <td>   8.182</td>\n",
       "</tr>\n",
       "<tr>\n",
       "  <th>Skew:</th>          <td> 0.376</td> <th>  Prob(JB):          </th> <td>  0.0167</td>\n",
       "</tr>\n",
       "<tr>\n",
       "  <th>Kurtosis:</th>      <td> 4.645</td> <th>  Cond. No.          </th> <td>    63.8</td>\n",
       "</tr>\n",
       "</table><br/><br/>Notes:<br/>[1] Standard Errors assume that the covariance matrix of the errors is correctly specified."
      ],
      "text/plain": [
       "<class 'statsmodels.iolib.summary.Summary'>\n",
       "\"\"\"\n",
       "                            OLS Regression Results                            \n",
       "==============================================================================\n",
       "Dep. Variable:      excess_return_AMD   R-squared:                       0.659\n",
       "Model:                            OLS   Adj. R-squared:                  0.653\n",
       "Method:                 Least Squares   F-statistic:                     112.2\n",
       "Date:                Mon, 03 Oct 2022   Prob (F-statistic):           3.52e-15\n",
       "Time:                        10:09:26   Log-Likelihood:                 163.89\n",
       "No. Observations:                  60   AIC:                            -323.8\n",
       "Df Residuals:                      58   BIC:                            -319.6\n",
       "Df Model:                           1                                         \n",
       "Covariance Type:            nonrobust                                         \n",
       "=====================================================================================\n",
       "                        coef    std err          t      P>|t|      [0.025      0.975]\n",
       "-------------------------------------------------------------------------------------\n",
       "excess_return_NDX     1.3989      0.132     10.593      0.000       1.135       1.663\n",
       "const                -0.0030      0.002     -1.448      0.153      -0.007       0.001\n",
       "==============================================================================\n",
       "Omnibus:                        6.682   Durbin-Watson:                   2.300\n",
       "Prob(Omnibus):                  0.035   Jarque-Bera (JB):                8.182\n",
       "Skew:                           0.376   Prob(JB):                       0.0167\n",
       "Kurtosis:                       4.645   Cond. No.                         63.8\n",
       "==============================================================================\n",
       "\n",
       "Notes:\n",
       "[1] Standard Errors assume that the covariance matrix of the errors is correctly specified.\n",
       "\"\"\""
      ]
     },
     "execution_count": 24,
     "metadata": {},
     "output_type": "execute_result"
    }
   ],
   "source": [
    "capm_result_amd.summary()"
   ]
  },
  {
   "cell_type": "markdown",
   "id": "c4012107",
   "metadata": {},
   "source": [
    "Observations: \n",
    "  1. As P>|t| is 0.000. Hence, we reject Null hypothesis implying that there is a statistically significant relationship between excess return of NASDAQ and AMD.\n",
    "  2. Excess Return of NASDAQ 100 Index accounts for 65.9% of the changes in the stock(AMD).\n",
    "  3. Since Beta>1, Hence AMD is more risky than market benchmark(NASDAQ 100 Index) return. Econometrically if    excess return of NASDAQ goes up by +1 unit, then excess return of NDX goes up by 1.39. "
   ]
  },
  {
   "cell_type": "code",
   "execution_count": 25,
   "id": "049f6d8c",
   "metadata": {},
   "outputs": [],
   "source": [
    "y_nvda = returns['excess_return_NVDA']\n",
    "X = returns['excess_return_NDX']"
   ]
  },
  {
   "cell_type": "code",
   "execution_count": 26,
   "id": "c4dbb8fc",
   "metadata": {},
   "outputs": [],
   "source": [
    "X = sm.add_constant(X, prepend=False)\n",
    "capm_nvda = sm.OLS(y_nvda, X)\n",
    "capm_result_nvda = capm_nvda.fit()"
   ]
  },
  {
   "cell_type": "code",
   "execution_count": 27,
   "id": "780108ab",
   "metadata": {},
   "outputs": [
    {
     "data": {
      "text/html": [
       "<table class=\"simpletable\">\n",
       "<caption>OLS Regression Results</caption>\n",
       "<tr>\n",
       "  <th>Dep. Variable:</th>    <td>excess_return_NVDA</td> <th>  R-squared:         </th> <td>   0.653</td>\n",
       "</tr>\n",
       "<tr>\n",
       "  <th>Model:</th>                    <td>OLS</td>        <th>  Adj. R-squared:    </th> <td>   0.647</td>\n",
       "</tr>\n",
       "<tr>\n",
       "  <th>Method:</th>              <td>Least Squares</td>   <th>  F-statistic:       </th> <td>   109.3</td>\n",
       "</tr>\n",
       "<tr>\n",
       "  <th>Date:</th>              <td>Mon, 03 Oct 2022</td>  <th>  Prob (F-statistic):</th> <td>5.84e-15</td>\n",
       "</tr>\n",
       "<tr>\n",
       "  <th>Time:</th>                  <td>10:09:35</td>      <th>  Log-Likelihood:    </th> <td>  155.29</td>\n",
       "</tr>\n",
       "<tr>\n",
       "  <th>No. Observations:</th>       <td>    60</td>       <th>  AIC:               </th> <td>  -306.6</td>\n",
       "</tr>\n",
       "<tr>\n",
       "  <th>Df Residuals:</th>           <td>    58</td>       <th>  BIC:               </th> <td>  -302.4</td>\n",
       "</tr>\n",
       "<tr>\n",
       "  <th>Df Model:</th>               <td>     1</td>       <th>                     </th>     <td> </td>   \n",
       "</tr>\n",
       "<tr>\n",
       "  <th>Covariance Type:</th>       <td>nonrobust</td>     <th>                     </th>     <td> </td>   \n",
       "</tr>\n",
       "</table>\n",
       "<table class=\"simpletable\">\n",
       "<tr>\n",
       "          <td></td>             <th>coef</th>     <th>std err</th>      <th>t</th>      <th>P>|t|</th>  <th>[0.025</th>    <th>0.975]</th>  \n",
       "</tr>\n",
       "<tr>\n",
       "  <th>excess_return_NDX</th> <td>    1.5934</td> <td>    0.152</td> <td>   10.454</td> <td> 0.000</td> <td>    1.288</td> <td>    1.898</td>\n",
       "</tr>\n",
       "<tr>\n",
       "  <th>const</th>             <td> 9.395e-05</td> <td>    0.002</td> <td>    0.039</td> <td> 0.969</td> <td>   -0.005</td> <td>    0.005</td>\n",
       "</tr>\n",
       "</table>\n",
       "<table class=\"simpletable\">\n",
       "<tr>\n",
       "  <th>Omnibus:</th>       <td> 6.604</td> <th>  Durbin-Watson:     </th> <td>   2.698</td>\n",
       "</tr>\n",
       "<tr>\n",
       "  <th>Prob(Omnibus):</th> <td> 0.037</td> <th>  Jarque-Bera (JB):  </th> <td>   5.702</td>\n",
       "</tr>\n",
       "<tr>\n",
       "  <th>Skew:</th>          <td> 0.644</td> <th>  Prob(JB):          </th> <td>  0.0578</td>\n",
       "</tr>\n",
       "<tr>\n",
       "  <th>Kurtosis:</th>      <td> 3.790</td> <th>  Cond. No.          </th> <td>    63.8</td>\n",
       "</tr>\n",
       "</table><br/><br/>Notes:<br/>[1] Standard Errors assume that the covariance matrix of the errors is correctly specified."
      ],
      "text/plain": [
       "<class 'statsmodels.iolib.summary.Summary'>\n",
       "\"\"\"\n",
       "                            OLS Regression Results                            \n",
       "==============================================================================\n",
       "Dep. Variable:     excess_return_NVDA   R-squared:                       0.653\n",
       "Model:                            OLS   Adj. R-squared:                  0.647\n",
       "Method:                 Least Squares   F-statistic:                     109.3\n",
       "Date:                Mon, 03 Oct 2022   Prob (F-statistic):           5.84e-15\n",
       "Time:                        10:09:35   Log-Likelihood:                 155.29\n",
       "No. Observations:                  60   AIC:                            -306.6\n",
       "Df Residuals:                      58   BIC:                            -302.4\n",
       "Df Model:                           1                                         \n",
       "Covariance Type:            nonrobust                                         \n",
       "=====================================================================================\n",
       "                        coef    std err          t      P>|t|      [0.025      0.975]\n",
       "-------------------------------------------------------------------------------------\n",
       "excess_return_NDX     1.5934      0.152     10.454      0.000       1.288       1.898\n",
       "const              9.395e-05      0.002      0.039      0.969      -0.005       0.005\n",
       "==============================================================================\n",
       "Omnibus:                        6.604   Durbin-Watson:                   2.698\n",
       "Prob(Omnibus):                  0.037   Jarque-Bera (JB):                5.702\n",
       "Skew:                           0.644   Prob(JB):                       0.0578\n",
       "Kurtosis:                       3.790   Cond. No.                         63.8\n",
       "==============================================================================\n",
       "\n",
       "Notes:\n",
       "[1] Standard Errors assume that the covariance matrix of the errors is correctly specified.\n",
       "\"\"\""
      ]
     },
     "execution_count": 27,
     "metadata": {},
     "output_type": "execute_result"
    }
   ],
   "source": [
    "capm_result_nvda.summary()"
   ]
  },
  {
   "cell_type": "markdown",
   "id": "d67bece5",
   "metadata": {},
   "source": [
    "Observations: \n",
    "  1. As P>|t| is 0.000. Hence, we reject the null hypothesis implying that there is a relationship between the excess return of NASDAQ ane NVDA.\n",
    "  2. Excess Return of NASDAQ 100 Index accounts for 65.3% of the changes in the stock(NVDA).\n",
    "  3. Since Beta>1, Hence NVDA is way more riskier than market benchmark(NASDAQ 100 Index).Econometrically if excess return of NASDAQ goes up by +1 unit, then excess return of NDX goes up by 1.59. "
   ]
  },
  {
   "cell_type": "markdown",
   "id": "310ee84b",
   "metadata": {},
   "source": [
    "### Compare the Model : Security Market Line(SML)"
   ]
  },
  {
   "cell_type": "code",
   "execution_count": 28,
   "id": "3b174311",
   "metadata": {},
   "outputs": [
    {
     "data": {
      "text/plain": [
       "[1.3988831454426278, 1.593393338772548]"
      ]
     },
     "execution_count": 28,
     "metadata": {},
     "output_type": "execute_result"
    }
   ],
   "source": [
    "betas = [capm_result_amd.params[0],\n",
    "         capm_result_nvda.params[0]]\n",
    "betas"
   ]
  },
  {
   "cell_type": "code",
   "execution_count": 29,
   "id": "81aea390",
   "metadata": {},
   "outputs": [],
   "source": [
    "def SML(rf, ret, beta):\n",
    "    asset_ret = [rf + (rm - rf) * i for i in betas]\n",
    "    plt.plot(betas, asset_ret)\n",
    "    plt.xlabel('Asset Beta')\n",
    "    plt.ylabel('Asset Return')\n",
    "    plt.title('SML')\n",
    "    plt.plot(1, ret, 'ro')"
   ]
  },
  {
   "cell_type": "code",
   "execution_count": 30,
   "id": "5e31dbfb",
   "metadata": {},
   "outputs": [],
   "source": [
    "rf = risk_free.mean()\n",
    "rm = returns['NDX'].mean()"
   ]
  },
  {
   "cell_type": "code",
   "execution_count": 35,
   "id": "e524ea09",
   "metadata": {},
   "outputs": [
    {
     "data": {
      "image/png": "[encoded data removed]",
      "text/plain": [
       "<Figure size 640x480 with 1 Axes>"
      ]
     },
     "metadata": {},
     "output_type": "display_data"
    }
   ],
   "source": [
    "SML(rf, rm, betas)"
   ]
  },
  {
   "cell_type": "markdown",
   "id": "7321ee23",
   "metadata": {},
   "source": [
    "This is an ideal case scenario where asset beta =1. ie. we have accurately mimicked the market. "
   ]
  },
  {
   "cell_type": "markdown",
   "id": "ca810d44",
   "metadata": {},
   "source": [
    "Now taking the return expectations for:\n",
    "\n",
    "* AMD as 0.0637% \n",
    "* NVDA as 0.0637%"
   ]
  },
  {
   "cell_type": "code",
   "execution_count": 52,
   "id": "e0fe5c52",
   "metadata": {},
   "outputs": [
    {
     "data": {
      "text/html": [
       "<div>\n",
       "<style scoped>\n",
       "    .dataframe tbody tr th:only-of-type {\n",
       "        vertical-align: middle;\n",
       "    }\n",
       "\n",
       "    .dataframe tbody tr th {\n",
       "        vertical-align: top;\n",
       "    }\n",
       "\n",
       "    .dataframe thead th {\n",
       "        text-align: right;\n",
       "    }\n",
       "</style>\n",
       "<table border=\"1\" class=\"dataframe\">\n",
       "  <thead>\n",
       "    <tr style=\"text-align: right;\">\n",
       "      <th></th>\n",
       "      <th>betas</th>\n",
       "      <th>ret_exp</th>\n",
       "    </tr>\n",
       "  </thead>\n",
       "  <tbody>\n",
       "    <tr>\n",
       "      <th>AMD</th>\n",
       "      <td>1.398883</td>\n",
       "      <td>0.0637</td>\n",
       "    </tr>\n",
       "    <tr>\n",
       "      <th>NVDA</th>\n",
       "      <td>1.593393</td>\n",
       "      <td>0.0637</td>\n",
       "    </tr>\n",
       "  </tbody>\n",
       "</table>\n",
       "</div>"
      ],
      "text/plain": [
       "         betas  ret_exp\n",
       "AMD   1.398883   0.0637\n",
       "NVDA  1.593393   0.0637"
      ]
     },
     "execution_count": 52,
     "metadata": {},
     "output_type": "execute_result"
    }
   ],
   "source": [
    "ret_exp = [0.0637, 0.0637]\n",
    "df_ret_exp = pd.DataFrame(ret_exp)\n",
    "df_betas = pd.DataFrame(betas)\n",
    "df_all = pd.concat([df_betas, df_ret_exp], axis=1)\n",
    "df_all.columns = ['betas', 'ret_exp']\n",
    "df_all.index = returns.columns[:2]\n",
    "df_all"
   ]
  },
  {
   "cell_type": "code",
   "execution_count": 53,
   "id": "ec9be4e4",
   "metadata": {},
   "outputs": [],
   "source": [
    "def over_under_val(rf, rm, stock):\n",
    "    x = rf + (rm - rf) * df_all['betas'].loc[stock]# required rate of return(equilibrium)\n",
    "    y = df_all['ret_exp'].loc[stock] # expectations\n",
    "    if x < y:\n",
    "        print('The stock is underpriced')\n",
    "    elif x > y:\n",
    "        print('The stock is overpriced')\n",
    "    else:\n",
    "        print('The stock is fairly priced')     \n",
    "    "
   ]
  },
  {
   "cell_type": "code",
   "execution_count": 54,
   "id": "04a6e912",
   "metadata": {},
   "outputs": [
    {
     "name": "stdout",
     "output_type": "stream",
     "text": [
      "The stock is underpriced\n"
     ]
    }
   ],
   "source": [
    "over_under_val(rf, rm, 'AMD')"
   ]
  },
  {
   "cell_type": "code",
   "execution_count": 55,
   "id": "440a3eab",
   "metadata": {},
   "outputs": [
    {
     "name": "stdout",
     "output_type": "stream",
     "text": [
      "The stock is underpriced\n"
     ]
    }
   ],
   "source": [
    "over_under_val(rf, rm, 'NVDA')"
   ]
  },
  {
   "cell_type": "markdown",
   "id": "9c4f7ba3",
   "metadata": {},
   "source": [
    "As both the stocks 'AMD' & 'NVDA' are underpriced. Hence investors should take advantage of the situation and invest their money."
   ]
  },
  {
   "cell_type": "markdown",
   "id": "21bfa3bf",
   "metadata": {},
   "source": [
    "### Evaluating Risk to Return Relationship: Sharpe Ratio"
   ]
  },
  {
   "cell_type": "markdown",
   "id": "74174799",
   "metadata": {},
   "source": [
    "Assuming that the portfolio is not well diversified, hence we take into account the:\n",
    "Total Risk(Unsystematic Risk+Systematic Risk)."
   ]
  },
  {
   "cell_type": "code",
   "execution_count": 56,
   "id": "af764f80",
   "metadata": {},
   "outputs": [],
   "source": [
    "def sharpe(stocks, rf, n_assets):\n",
    "    sharpe_ratios = {}\n",
    "    for i, j in zip(stocks, range(n_assets)):\n",
    "        sharpe_ratios[i] = returns.iloc[:, j].mean() - rf / np.std(returns.iloc[:, j])\n",
    "    return sharpe_ratios"
   ]
  },
  {
   "cell_type": "code",
   "execution_count": 57,
   "id": "c6349ee0",
   "metadata": {},
   "outputs": [
    {
     "data": {
      "text/plain": [
       "{'AMD': -0.023159230093350063, 'NVDA': -0.01743304175890372}"
      ]
     },
     "execution_count": 57,
     "metadata": {},
     "output_type": "execute_result"
    }
   ],
   "source": [
    "stocks = returns.columns[:2]\n",
    "sharpe_ratios = sharpe(stocks, rf, 3)\n",
    "sharpe_ratios"
   ]
  },
  {
   "cell_type": "markdown",
   "id": "0ccd6c3d",
   "metadata": {},
   "source": [
    "As the higher the sharpe ratio is, the better it is, hence NVDA offers the best risk to return relationship."
   ]
  },
  {
   "cell_type": "markdown",
   "id": "6a3221c5",
   "metadata": {},
   "source": [
    "### Evaluating Risk to Return Relationship: Treynor Ratio"
   ]
  },
  {
   "cell_type": "code",
   "execution_count": 58,
   "id": "942a31ff",
   "metadata": {},
   "outputs": [],
   "source": [
    "def treynor(stocks, rf, n_assets):\n",
    "    treynor_ratios = {}\n",
    "    for i, j in enumerate(stocks):\n",
    "        treynor_ratios[j] = returns.iloc[:, i].mean() - rf / df_all['betas'][j]\n",
    "    return treynor_ratios"
   ]
  },
  {
   "cell_type": "code",
   "execution_count": 59,
   "id": "125f2e8c",
   "metadata": {},
   "outputs": [
    {
     "data": {
      "text/plain": [
       "{'AMD': -0.0027311290148181663, 'NVDA': 0.0004222281808269202}"
      ]
     },
     "execution_count": 59,
     "metadata": {},
     "output_type": "execute_result"
    }
   ],
   "source": [
    "treynor_ratios = treynor(stocks, rf, 2)\n",
    "treynor_ratios"
   ]
  },
  {
   "cell_type": "markdown",
   "id": "86c687df",
   "metadata": {},
   "source": [
    "The higher the Treynor Ratio the better. Hence it would be a wiser decision to invest in NVDA."
   ]
  }
 ],
 "metadata": {
  "kernelspec": {
   "display_name": "Python 3 (ipykernel)",
   "language": "python",
   "name": "python3"
  },
  "language_info": {
   "codemirror_mode": {
    "name": "ipython",
    "version": 3
   },
   "file_extension": ".py",
   "mimetype": "text/x-python",
   "name": "python",
   "nbconvert_exporter": "python",
   "pygments_lexer": "ipython3",
   "version": "3.10.6"
  },
  "latex_envs": {
   "LaTeX_envs_menu_present": true,
   "autoclose": false,
   "autocomplete": true,
   "bibliofile": "biblio.bib",
   "cite_by": "apalike",
   "current_citInitial": 1,
   "eqLabelWithNumbers": true,
   "eqNumInitial": 1,
   "hotkeys": {
    "equation": "Ctrl-E",
    "itemize": "Ctrl-I"
   },
   "labels_anchors": false,
   "latex_user_defs": false,
   "report_style_numbering": false,
   "user_envs_cfg": false
  },
  "toc": {
   "base_numbering": 1,
   "nav_menu": {},
   "number_sections": false,
   "sideBar": true,
   "skip_h1_title": false,
   "title_cell": "Table of Contents",
   "title_sidebar": "Contents",
   "toc_cell": false,
   "toc_position": {},
   "toc_section_display": true,
   "toc_window_display": false
  }
 },
 "nbformat": 4,
 "nbformat_minor": 5
}
